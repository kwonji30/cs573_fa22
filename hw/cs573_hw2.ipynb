{
 "cells": [
  {
   "cell_type": "code",
   "execution_count": 4,
   "id": "047d68c4-469d-40e8-ab32-8da04154e929",
   "metadata": {},
   "outputs": [],
   "source": [
    "# import Libraries\n",
    "\n",
    "import os\n",
    "import PIL\n",
    "import numpy as np\n",
    "import pandas as pd\n",
    "from matplotlib import pyplot as plt\n",
    "from sklearn.naive_bayes import GaussianNB\n",
    "from sklearn.multiclass import OneVsRestClassifier\n",
    "from sklearn.linear_model import LogisticRegression\n",
    "from sklearn import preprocessing"
   ]
  },
  {
   "cell_type": "code",
   "execution_count": null,
   "id": "3ae8d2ef-f945-469f-8ca2-97680db96045",
   "metadata": {},
   "outputs": [],
   "source": [
    "# Question 1(a)\n",
    "\n",
    "directory = \"/users/kwon/Downloads/image/train\"\n",
    "categories = ['angry', 'disgust', 'fear', 'happy', 'neutral', 'sad', 'surprise']\n",
    "matrix = []\n",
    "for i in categories:\n",
    "    cat_matrix = []\n",
    "    path = os.path.join(directory, I)\n",
    "    for img in os.listdir(path):\n",
    "        # load image\n",
    "        im = Image.open(path + \"/\" + img)\n",
    "        im_arr = np.array(im)\n",
    "\n",
    "        # vectorize each image\n",
    "        vec = im_arr.flatten()\n",
    "\n",
    "        # build the image matrix\n",
    "        cat_matrix.append(vec - np.mean(vec))\n",
    "\n",
    "    # center it\n",
    "    center = cat_matrix - np.mean(cat_matrix, axis = 0)\n",
    "    matrix.append(center)"
   ]
  },
  {
   "cell_type": "code",
   "execution_count": null,
   "id": "bfcaaee5-37ff-43b8-8587-ca12c49165b4",
   "metadata": {},
   "outputs": [],
   "source": [
    "# Question 1 (b)\n",
    "\n",
    "# For each row, the order would be\n",
    "# \"angrey, disgust, fear, happy, neutral, ad, surprise\"\n",
    "\n",
    "plt.figure()\n",
    "a, ax = plt.subplots(7, 1)\n",
    "a.set_figwidth(10)\n",
    "a.set_figheight(10)\n",
    "for i in range(0, 7):\n",
    "    U, Sigma, VT = np.linalg,svd(matrix[i].T, full_matrices = False)\n",
    "    ax[i].imshow(np.reshape(U.T[0], (48, 48)), cmap='gray')\n",
    "    ax[i].axis('off')"
   ]
  },
  {
   "cell_type": "code",
   "execution_count": null,
   "id": "f27b6b90-010c-4336-9256-6f20340a43b5",
   "metadata": {},
   "outputs": [],
   "source": [
    "# Qeustion 1(c) projection fuction\n",
    "\n",
    "def proj(k, U, x):\n",
    "    a = U[:, :k]\n",
    "    return (a @ a.T) @ x.T"
   ]
  },
  {
   "cell_type": "code",
   "execution_count": null,
   "id": "03bb8b35-a4cf-4df5-908a-ed8fb162e85e",
   "metadata": {},
   "outputs": [],
   "source": [
    "# For each column, the order would be\n",
    "# k = 1, 10, 100, 1000\n",
    "\n",
    "plt.figure()\n",
    "f, ax = plt.subplots(7,4)\n",
    "\n",
    "for i in range(0, 4):\n",
    "    for c in range(0, 7):\n",
    "        ax[c, i].imshow(np,reshape(proj(10**i, U, matrix[c][0]), (48, 48)), cmap = 'gray')\n",
    "        ax[c, i].axis('off')"
   ]
  },
  {
   "cell_type": "code",
   "execution_count": null,
   "id": "4ef286a7-df10-4776-81c6-e45e179bb290",
   "metadata": {},
   "outputs": [],
   "source": [
    "# Question 1(d)\n",
    "\n",
    "# x is the k value and y is the percent variance explained\n",
    "\n",
    "plt.figure()\n",
    "a, ax = plt.subplots(7)\n",
    "a.set_figwidth(10)\n",
    "a.set_figheight(20)\n",
    "for i in range(0, 7):\n",
    "    U, Sigma, VT = np.linalg,svd(matrix[i].T, full_matrices = False)\n",
    "    var = Sigma ** 2 / np.sum (Sigma ** 2)\n",
    "    fig = plt.figure(figsize = (8,5))\n",
    "    num_vars = len(var)\n",
    "    ax[I].plot(np.argange(num_vars) + 1, var,  'ro-', linewidth = 2)\n",
    "    leg = ax[i].legend(['Eigenvalues from SVD'], loc = 'best', borderpad = 0.3, shadow = False)\n",
    "plt.show()"
   ]
  },
  {
   "cell_type": "code",
   "execution_count": null,
   "id": "fd376411-2b6b-4383-9771-34a430788f33",
   "metadata": {},
   "outputs": [],
   "source": [
    "# Question 1(e)\n",
    "\n",
    "plt.figure()\n",
    "a, ax = plt.subplots(7)\n",
    "a.set_figwidth(10)\n",
    "a.set_figheight(30)\n",
    "for i in range(0, 7):\n",
    "    data = []\n",
    "    for i in range(1, 3):\n",
    "        data.append(np.var(proj((10**i)*(10**(i-1)), U, matrix[c]), axis = 1))\n",
    "    bp = ax[c].boxplot(data)\n",
    "    ax[c].set_xticklabels([10, 1000])\n",
    "plt.show()"
   ]
  }
 ],
 "metadata": {
  "kernelspec": {
   "display_name": "Python 3 (ipykernel)",
   "language": "python",
   "name": "python3"
  },
  "language_info": {
   "codemirror_mode": {
    "name": "ipython",
    "version": 3
   },
   "file_extension": ".py",
   "mimetype": "text/x-python",
   "name": "python",
   "nbconvert_exporter": "python",
   "pygments_lexer": "ipython3",
   "version": "3.10.12"
  }
 },
 "nbformat": 4,
 "nbformat_minor": 5
}
